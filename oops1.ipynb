{
  "nbformat": 4,
  "nbformat_minor": 0,
  "metadata": {
    "colab": {
      "provenance": []
    },
    "kernelspec": {
      "name": "python3",
      "display_name": "Python 3"
    },
    "language_info": {
      "name": "python"
    }
  },
  "cells": [
    {
      "cell_type": "code",
      "source": [
        "print(\"HELLLO\")\n",
        "print('HIIIIIIIIIIIIIIIIIIIIIIIII')\n"
      ],
      "metadata": {
        "colab": {
          "base_uri": "https://localhost:8080/"
        },
        "id": "DjSzxaAgCf8L",
        "outputId": "f118fb65-288f-407f-c572-2f0705158d27"
      },
      "execution_count": 3,
      "outputs": [
        {
          "output_type": "stream",
          "name": "stdout",
          "text": [
            "HELLLO\n",
            "HIIIIIIIIIIIIIIIIIIIIIIIII\n"
          ]
        }
      ]
    },
    {
      "cell_type": "code",
      "source": [
        "class Student:\n",
        "  def __init__(self, name, age):\n",
        "    self.name = name\n",
        "    self.age = age\n",
        "s1 = Student(\"aman\", 21)\n",
        "s1.__dict__\n"
      ],
      "metadata": {
        "colab": {
          "base_uri": "https://localhost:8080/"
        },
        "id": "E58G2yuEUZ0r",
        "outputId": "d293f147-ad51-47a0-8a67-3065da42c54e"
      },
      "execution_count": 43,
      "outputs": [
        {
          "output_type": "execute_result",
          "data": {
            "text/plain": [
              "{'name': 'shre', 'age': 21}"
            ]
          },
          "metadata": {},
          "execution_count": 43
        }
      ]
    },
    {
      "cell_type": "code",
      "source": [
        "s2 = Student(\"abhishek\", 25)\n",
        "s2.__dict__"
      ],
      "metadata": {
        "colab": {
          "base_uri": "https://localhost:8080/"
        },
        "id": "yOWndId_UwnL",
        "outputId": "fca547c6-2c5b-4bb3-909e-26d0614e7d85"
      },
      "execution_count": 42,
      "outputs": [
        {
          "output_type": "execute_result",
          "data": {
            "text/plain": [
              "{'name': 'abhishek', 'age': 25}"
            ]
          },
          "metadata": {},
          "execution_count": 42
        }
      ]
    },
    {
      "cell_type": "code",
      "source": [
        "class Student:\n",
        "  Passing = 40\n",
        "  def StudentDetails(self):\n",
        "    self.name = \"Shreyansh Raj\"\n",
        "    self.age = 21\n",
        "    print(\"NAME = \", self.name)\n",
        "    print(\"AGE = \", self.age)\n",
        "    self.passing_percentage = 80\n",
        "\n",
        "\n",
        "\n",
        "\n",
        "\n",
        "\n",
        "\n",
        "  def isPassed(self):\n",
        "    if self.passing_percentage > Student.Passing:\n",
        "      print(\"Passed\")\n",
        "    else:\n",
        "      print(\"fail\")\n",
        "\n",
        "  @staticmethod\n",
        "  def Welcome_To_Myschool():\n",
        "    print(\"!WELCOME TO MY SCHOOL...\")\n",
        "\n",
        "\n",
        "\n",
        "\n",
        "\n",
        "\n",
        "s1 =  Student()\n",
        "s1.StudentDetails()\n",
        "s1.isPassed()\n",
        "s1.Welcome_To_Myschool()"
      ],
      "metadata": {
        "colab": {
          "base_uri": "https://localhost:8080/"
        },
        "id": "VG1F_gLCEeP0",
        "outputId": "0715d544-9fef-41b8-8b75-60885438ebb6"
      },
      "execution_count": 23,
      "outputs": [
        {
          "output_type": "stream",
          "name": "stdout",
          "text": [
            "NAME =  Shreyansh Raj\n",
            "AGE =  21\n",
            "Passed\n",
            "!WELCOME TO MY SCHOOL...\n"
          ]
        }
      ]
    }
  ]
}